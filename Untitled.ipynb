{
 "cells": [
  {
   "cell_type": "code",
   "execution_count": 1,
   "metadata": {},
   "outputs": [],
   "source": [
    "import requests\n",
    "import pandas as pd\n",
    "\n",
    "#Created this function to help get the content from a website. If you are going to reuse a block of code maybe you should make it a function \n",
    "\n",
    "url = \"https://countrycode.org/\"\n",
    "\n",
    "def get_url(url):\n",
    "    response = requests.get(url).content\n",
    "    return response \n",
    "\n",
    "site_url = get_url(url)\n",
    "table = pd.read_html(site_url)\n"
   ]
  },
  {
   "cell_type": "code",
   "execution_count": 2,
   "metadata": {},
   "outputs": [
    {
     "data": {
      "text/html": [
       "<div>\n",
       "<style scoped>\n",
       "    .dataframe tbody tr th:only-of-type {\n",
       "        vertical-align: middle;\n",
       "    }\n",
       "\n",
       "    .dataframe tbody tr th {\n",
       "        vertical-align: top;\n",
       "    }\n",
       "\n",
       "    .dataframe thead th {\n",
       "        text-align: right;\n",
       "    }\n",
       "</style>\n",
       "<table border=\"1\" class=\"dataframe\">\n",
       "  <thead>\n",
       "    <tr style=\"text-align: right;\">\n",
       "      <th></th>\n",
       "      <th>COUNTRY</th>\n",
       "      <th>COUNTRY CODE</th>\n",
       "      <th>ISO CODES</th>\n",
       "      <th>POPULATION</th>\n",
       "      <th>AREA KM2</th>\n",
       "      <th>GDP $USD</th>\n",
       "    </tr>\n",
       "  </thead>\n",
       "  <tbody>\n",
       "    <tr>\n",
       "      <th>0</th>\n",
       "      <td>Afghanistan</td>\n",
       "      <td>93</td>\n",
       "      <td>AF / AFG</td>\n",
       "      <td>29121286</td>\n",
       "      <td>647500</td>\n",
       "      <td>20.65 Billion</td>\n",
       "    </tr>\n",
       "    <tr>\n",
       "      <th>1</th>\n",
       "      <td>Albania</td>\n",
       "      <td>355</td>\n",
       "      <td>AL / ALB</td>\n",
       "      <td>2986952</td>\n",
       "      <td>28748</td>\n",
       "      <td>12.8 Billion</td>\n",
       "    </tr>\n",
       "    <tr>\n",
       "      <th>2</th>\n",
       "      <td>Algeria</td>\n",
       "      <td>213</td>\n",
       "      <td>DZ / DZA</td>\n",
       "      <td>34586184</td>\n",
       "      <td>2381740</td>\n",
       "      <td>215.7 Billion</td>\n",
       "    </tr>\n",
       "    <tr>\n",
       "      <th>3</th>\n",
       "      <td>American Samoa</td>\n",
       "      <td>1-684</td>\n",
       "      <td>AS / ASM</td>\n",
       "      <td>57881</td>\n",
       "      <td>199</td>\n",
       "      <td>462.2 Million</td>\n",
       "    </tr>\n",
       "    <tr>\n",
       "      <th>4</th>\n",
       "      <td>Andorra</td>\n",
       "      <td>376</td>\n",
       "      <td>AD / AND</td>\n",
       "      <td>84000</td>\n",
       "      <td>468</td>\n",
       "      <td>4.8 Billion</td>\n",
       "    </tr>\n",
       "  </tbody>\n",
       "</table>\n",
       "</div>"
      ],
      "text/plain": [
       "          COUNTRY COUNTRY CODE ISO CODES  POPULATION  AREA KM2       GDP $USD\n",
       "0     Afghanistan           93  AF / AFG    29121286    647500  20.65 Billion\n",
       "1         Albania          355  AL / ALB     2986952     28748   12.8 Billion\n",
       "2         Algeria          213  DZ / DZA    34586184   2381740  215.7 Billion\n",
       "3  American Samoa        1-684  AS / ASM       57881       199  462.2 Million\n",
       "4         Andorra          376  AD / AND       84000       468    4.8 Billion"
      ]
     },
     "execution_count": 2,
     "metadata": {},
     "output_type": "execute_result"
    }
   ],
   "source": [
    "table_df = pd.DataFrame(table[-2])\n",
    "table_df.head()"
   ]
  },
  {
   "cell_type": "code",
   "execution_count": 1,
   "metadata": {},
   "outputs": [],
   "source": [
    "from bs4 import BeautifulSoup"
   ]
  }
 ],
 "metadata": {
  "kernelspec": {
   "display_name": "Python 3",
   "language": "python",
   "name": "python3"
  },
  "language_info": {
   "codemirror_mode": {
    "name": "ipython",
    "version": 3
   },
   "file_extension": ".py",
   "mimetype": "text/x-python",
   "name": "python",
   "nbconvert_exporter": "python",
   "pygments_lexer": "ipython3",
   "version": "3.7.3"
  }
 },
 "nbformat": 4,
 "nbformat_minor": 2
}

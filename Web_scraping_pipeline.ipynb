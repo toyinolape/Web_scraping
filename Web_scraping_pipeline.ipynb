{
 "cells": [
  {
   "cell_type": "markdown",
   "metadata": {},
   "source": [
    "# Your Turn: Build A Pipeline\n",
    "\n",
    "- Combine Your Knowledge of the Website, `requests` and `bs4`\n",
    "- Automate Your Scraping Process Across Multiple Pages\n",
    "- Generalize Your Code For Varying Searches\n",
    "- Target & Save Specific Information You Want"
   ]
  },
  {
   "cell_type": "markdown",
   "metadata": {},
   "source": [
    "## Your Tasks:\n",
    "\n",
    "- Scrape the first 100 available search results\n",
    "- Generalize your code to allow searching for different locations/jobs\n",
    "- Pick out information about the URL, job title, and job location\n",
    "- Save the results to a file"
   ]
  },
  {
   "cell_type": "code",
   "execution_count": 205,
   "metadata": {},
   "outputs": [],
   "source": [
    "import requests\n",
    "from bs4 import BeautifulSoup"
   ]
  },
  {
   "cell_type": "markdown",
   "metadata": {},
   "source": [
    "### Part 1: Inspect\n",
    "\n",
    "- How do the URLs change when you navigate to the next results page?\n",
    "- How do the URLs change when you use a different location and/or job title search?\n",
    "- Which HTML elements contain the link, title, and location of each job?"
   ]
  },
  {
   "cell_type": "markdown",
   "metadata": {},
   "source": [
    " * Using thhe same Indeed website, we would complete the task. When URLs change there is an additional query parameter `&start=10` This doubles with every page.\n",
    "\n",
    "This denotes the first page: `https://www.indeed.com/jobs?q=python&l=new+york&start=0`\n",
    "This follows as the second page: `https://www.indeed.com/jobs?q=python&l=new+york&start=10`\n",
    "\n",
    " * URLs change when a different location or key word is changed by modifying the query parameter information in the URL\n",
    " "
   ]
  },
  {
   "cell_type": "markdown",
   "metadata": {},
   "source": [
    "\n",
    "`https://www.indeed.com/jobs?q=python&l=new+york`\n",
    "\n",
    "- **Base URL**\n",
    "    - `https://www.indeed.com/jobs`\n",
    "- **Query Parameters**\n",
    "    - Start & Separators: `?`, `&`\n",
    "    - Information: `q=python`, `l=new+york`"
   ]
  },
  {
   "cell_type": "markdown",
   "metadata": {},
   "source": [
    "### Part 2: Scrape\n",
    "\n",
    "- Build the code to fetch the first 100 search results. This means you will need to automatically navigate to multiple results pages\n",
    "- Write functions that allow you to specify the job title, location, and amount of results as arguments"
   ]
  },
  {
   "cell_type": "code",
   "execution_count": 206,
   "metadata": {},
   "outputs": [],
   "source": [
    "base_url = \"https://www.indeed.com/jobs\""
   ]
  },
  {
   "cell_type": "code",
   "execution_count": 207,
   "metadata": {},
   "outputs": [],
   "source": [
    "#This function opens the page number specified\n",
    "\n",
    "def get_url(title, loc, page_num):\n",
    "    \n",
    "    url = base_url+\"?q=\"+title.lower().replace(\" \", \"+\")+\"&l=\"+loc.lower().replace(\" \", \"+\")\n",
    "    page_inc = \"&start=\"+ str(page_num * 10)\n",
    "    url = url + page_inc\n",
    "    repsonse = requests.get(url)\n",
    "    return response \n",
    "\n",
    "site_url = get_url(\"python\",\"new york\", 3)"
   ]
  },
  {
   "cell_type": "code",
   "execution_count": 208,
   "metadata": {},
   "outputs": [],
   "source": [
    "site_content = site_url.content"
   ]
  },
  {
   "cell_type": "code",
   "execution_count": 218,
   "metadata": {},
   "outputs": [],
   "source": [
    "soup = BeautifulSoup(site_content)\n"
   ]
  },
  {
   "cell_type": "markdown",
   "metadata": {},
   "source": [
    "### Part 3: Parse\n",
    "\n",
    "- Sieve through your HTML soup to pick out only the job title, link, and location\n",
    "- Format the results in a readable format (e.g. JSON)\n",
    "- Save the results to a file"
   ]
  },
  {
   "cell_type": "code",
   "execution_count": 216,
   "metadata": {},
   "outputs": [
    {
     "data": {
      "text/plain": [
       "{'Job Title': 'Software Engineer',\n",
       " 'Job Link': 'https://www.indeed.com/rc/clk?jk=a195d7dabc2ff8e3&fccid=25b5166547bbf543&vjs=3',\n",
       " 'Job Location': 'New York, NY'}"
      ]
     },
     "execution_count": 216,
     "metadata": {},
     "output_type": "execute_result"
    }
   ],
   "source": [
    "\n",
    "def parse_site(soup):\n",
    "    results = soup.find(id='resultsCol')\n",
    "    jobs = results.find_all('div', class_='row')\n",
    "    base_url = \"https://www.indeed.com\"\n",
    "    results = []\n",
    "    \n",
    "    for job in jobs:\n",
    "        job_titles = job.find('h2').find('a').text.strip() #Loops through jobs and looks for the a tag in the h2 tag and returns the text within the bytes\n",
    "        job_link = job.find('h2').find('a')[\"href\"] #Loops through jobs and looks for the a tag in the h2 tag and returns the href\n",
    "        job_url = base_url + job_link\n",
    "        job_loc = job.find(class_=\"location\").text #Loops through jobs and looks for the class: location and returns the text within it\n",
    "        results.append({\"Job Title\": job_titles, \"Job Link\": job_url, \"Job Location\":job_loc})\n",
    "        \n",
    "    return results\n",
    "parse_site(soup)[10]\n"
   ]
  },
  {
   "cell_type": "code",
   "execution_count": 215,
   "metadata": {},
   "outputs": [
    {
     "data": {
      "text/plain": [
       "{'Job Title': 'Data Technician (Full- or Part-Time)',\n",
       " 'Job Link': 'https://www.indeed.com/rc/clk?jk=da727c0cddda240e&fccid=56a26d4c816e53d1&vjs=3',\n",
       " 'Job Location': 'New York, NY'}"
      ]
     },
     "execution_count": 215,
     "metadata": {},
     "output_type": "execute_result"
    }
   ],
   "source": [
    "# Declare necessary variables\n",
    "qty_page = 15\n",
    "num_jobs = 100\n",
    "\n",
    "# To determine the number of pages to open \n",
    "page_num = num_jobs//qty_page\n",
    "\n",
    "def tot_page(title, loc, page_num):\n",
    "    jobs_tot = []\n",
    "    for i in range(page_num):\n",
    "        site_url = get_url(title, loc, page_num)\n",
    "        soup = BeautifulSoup(site_url.content)\n",
    "        jobs_tot += (parse_site(soup))\n",
    "    return jobs_tot\n",
    "        \n",
    "Task = tot_page(\"python\",\"new york\",page_num)\n",
    "Task[75]"
   ]
  },
  {
   "cell_type": "code",
   "execution_count": 203,
   "metadata": {},
   "outputs": [
    {
     "data": {
      "text/html": [
       "<div>\n",
       "<style scoped>\n",
       "    .dataframe tbody tr th:only-of-type {\n",
       "        vertical-align: middle;\n",
       "    }\n",
       "\n",
       "    .dataframe tbody tr th {\n",
       "        vertical-align: top;\n",
       "    }\n",
       "\n",
       "    .dataframe thead th {\n",
       "        text-align: right;\n",
       "    }\n",
       "</style>\n",
       "<table border=\"1\" class=\"dataframe\">\n",
       "  <thead>\n",
       "    <tr style=\"text-align: right;\">\n",
       "      <th></th>\n",
       "      <th>Job Title</th>\n",
       "      <th>Job Link</th>\n",
       "      <th>Job Location</th>\n",
       "    </tr>\n",
       "  </thead>\n",
       "  <tbody>\n",
       "    <tr>\n",
       "      <th>0</th>\n",
       "      <td>Data Technician (Full- or Part-Time)</td>\n",
       "      <td>https://www.indeed.com/rc/clk?jk=da727c0cddda2...</td>\n",
       "      <td>New York, NY</td>\n",
       "    </tr>\n",
       "    <tr>\n",
       "      <th>1</th>\n",
       "      <td>Python / Java Software Engineer</td>\n",
       "      <td>https://www.indeed.com/rc/clk?jk=6b49e869fa744...</td>\n",
       "      <td>New York, NY</td>\n",
       "    </tr>\n",
       "    <tr>\n",
       "      <th>2</th>\n",
       "      <td>Penetration Testing Trainee (Remote USA)</td>\n",
       "      <td>https://www.indeed.com/rc/clk?jk=487b30db63184...</td>\n",
       "      <td>Florida, NY</td>\n",
       "    </tr>\n",
       "    <tr>\n",
       "      <th>3</th>\n",
       "      <td>Healthcare Data Scientist</td>\n",
       "      <td>https://www.indeed.com/rc/clk?jk=6720cf1c03a1c...</td>\n",
       "      <td>New York, NY</td>\n",
       "    </tr>\n",
       "    <tr>\n",
       "      <th>4</th>\n",
       "      <td>Digital Archives Assistant</td>\n",
       "      <td>https://www.indeed.com/rc/clk?jk=7c541433bfbcb...</td>\n",
       "      <td>Long Island City, NY</td>\n",
       "    </tr>\n",
       "  </tbody>\n",
       "</table>\n",
       "</div>"
      ],
      "text/plain": [
       "                                  Job Title  \\\n",
       "0      Data Technician (Full- or Part-Time)   \n",
       "1           Python / Java Software Engineer   \n",
       "2  Penetration Testing Trainee (Remote USA)   \n",
       "3                 Healthcare Data Scientist   \n",
       "4                Digital Archives Assistant   \n",
       "\n",
       "                                            Job Link          Job Location  \n",
       "0  https://www.indeed.com/rc/clk?jk=da727c0cddda2...          New York, NY  \n",
       "1  https://www.indeed.com/rc/clk?jk=6b49e869fa744...          New York, NY  \n",
       "2  https://www.indeed.com/rc/clk?jk=487b30db63184...           Florida, NY  \n",
       "3  https://www.indeed.com/rc/clk?jk=6720cf1c03a1c...          New York, NY  \n",
       "4  https://www.indeed.com/rc/clk?jk=7c541433bfbcb...  Long Island City, NY  "
      ]
     },
     "execution_count": 203,
     "metadata": {},
     "output_type": "execute_result"
    }
   ],
   "source": [
    "#import necessary modules\n",
    "import pandas as pd\n",
    "\n",
    "\n",
    "job_search = pd.DataFrame(Task, columns=[\"Job Title\",\"Job Link\",\"Job Location\"])\n",
    "\n",
    "job_search.head()"
   ]
  },
  {
   "cell_type": "code",
   "execution_count": 204,
   "metadata": {},
   "outputs": [],
   "source": [
    "job_search.to_csv(\"job_search.csv\")"
   ]
  }
 ],
 "metadata": {
  "kernelspec": {
   "display_name": "Python 3",
   "language": "python",
   "name": "python3"
  },
  "language_info": {
   "codemirror_mode": {
    "name": "ipython",
    "version": 3
   },
   "file_extension": ".py",
   "mimetype": "text/x-python",
   "name": "python",
   "nbconvert_exporter": "python",
   "pygments_lexer": "ipython3",
   "version": "3.7.3"
  }
 },
 "nbformat": 4,
 "nbformat_minor": 4
}
